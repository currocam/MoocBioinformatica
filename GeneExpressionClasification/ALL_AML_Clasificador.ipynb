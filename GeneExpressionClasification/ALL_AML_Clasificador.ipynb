{
 "cells": [
  {
   "cell_type": "markdown",
   "id": "joined-editing",
   "metadata": {},
   "source": [
    "# Clasificación binaria con algoritmo RandomForest e interpretación con LIME"
   ]
  },
  {
   "cell_type": "markdown",
   "id": "ideal-assurance",
   "metadata": {},
   "source": [
    "*Este cuaderno está basado en parte en los contenidos del MOOC Machine Learning y Big Data para la Bioinformática y fue hecho para afianzar los conocimientos del mismo. Los datos utilizados provienen del siguiente artículo: \n",
    "Golub TR, Slonim DK, Tamayo P, Huard C, Gaasenbeek M, Mesirov JP, Coller H, Loh ML, Downing JR, Caligiuri MA, Bloomfield CD, Lander ES. Molecular classification of cancer: class discovery and class prediction by gene expression monitoring. Science. 1999 Oct 15;286(5439):531-7. doi: 10.1126/science.286.5439.531. PMID: 10521349.*"
   ]
  },
  {
   "cell_type": "code",
   "execution_count": 1,
   "id": "proved-silence",
   "metadata": {},
   "outputs": [],
   "source": [
    "#Importamos las librerías que vamos a utilizar\n",
    "from sklearn.ensemble import RandomForestClassifier\n",
    "from sklearn.metrics import accuracy_score\n",
    "from sklearn.metrics import plot_confusion_matrix\n",
    "from sklearn.metrics import roc_auc_score\n",
    "from sklearn.metrics import plot_roc_curve\n",
    "from sklearn.metrics import classification_report\n",
    "from sklearn.metrics import f1_score\n",
    "from sklearn.feature_selection import SelectFromModel \n",
    "from sklearn.decomposition import PCA\n",
    "from sklearn.preprocessing import StandardScaler\n",
    "from sklearn.model_selection import train_test_split\n",
    "from sklearn import tree\n",
    "from graphviz import Source\n",
    "\n",
    "\n",
    "from mlxtend.plotting import plot_decision_regions\n",
    "import itertools\n",
    "import matplotlib.gridspec as gridspec\n",
    "import matplotlib.pyplot as plt\n",
    "import random\n",
    "import numpy as np\n",
    "import pandas as pd\n",
    "\n",
    "from imblearn.over_sampling import RandomOverSampler\n",
    "import lime\n",
    "import lime.lime_tabular"
   ]
  },
  {
   "cell_type": "code",
   "execution_count": 2,
   "id": "historic-transition",
   "metadata": {},
   "outputs": [],
   "source": [
    "#Cargamos los datos de expresión y la variable clínica \n",
    "dataset = pd.read_csv('dataset.csv')\n",
    "X, y = dataset.drop(columns=['Diagnostic', 'Patient']), dataset['Diagnostic'].replace({\"ALL\": 0, \"AML\": 1})"
   ]
  },
  {
   "cell_type": "markdown",
   "id": "underlying-universe",
   "metadata": {},
   "source": [
    "La variable clínica consiste en el diágnostico del paciente con leucemia linfoblástica aguda (ALL=0) o con leucemia mieloide aguda (AML = 1). En este notebook se pretenderá entrenar un clasificador que permita, a partir de los valores de expresión génica, predecir si tiene una u otra enfermedad. "
   ]
  },
  {
   "cell_type": "markdown",
   "id": "lesser-designation",
   "metadata": {},
   "source": [
    "A continuación, describimos los principales parámetros estadísticos de pacientes con ALL o AML. "
   ]
  },
  {
   "cell_type": "code",
   "execution_count": 3,
   "id": "requested-temple",
   "metadata": {},
   "outputs": [
    {
     "name": "stdout",
     "output_type": "stream",
     "text": [
      "Parámetros estadísticos ALL: \n"
     ]
    },
    {
     "data": {
      "text/html": [
       "<div>\n",
       "<style scoped>\n",
       "    .dataframe tbody tr th:only-of-type {\n",
       "        vertical-align: middle;\n",
       "    }\n",
       "\n",
       "    .dataframe tbody tr th {\n",
       "        vertical-align: top;\n",
       "    }\n",
       "\n",
       "    .dataframe thead th {\n",
       "        text-align: right;\n",
       "    }\n",
       "</style>\n",
       "<table border=\"1\" class=\"dataframe\">\n",
       "  <thead>\n",
       "    <tr style=\"text-align: right;\">\n",
       "      <th></th>\n",
       "      <th>AFFX-BioB-5_at</th>\n",
       "      <th>AFFX-BioB-M_at</th>\n",
       "      <th>AFFX-BioB-3_at</th>\n",
       "      <th>AFFX-BioC-5_at</th>\n",
       "      <th>AFFX-BioC-3_at</th>\n",
       "      <th>AFFX-BioDn-5_at</th>\n",
       "      <th>AFFX-BioDn-3_at</th>\n",
       "      <th>AFFX-CreX-5_at</th>\n",
       "      <th>AFFX-CreX-3_at</th>\n",
       "      <th>AFFX-BioB-5_st</th>\n",
       "      <th>...</th>\n",
       "      <th>U48730_at</th>\n",
       "      <th>U58516_at</th>\n",
       "      <th>U73738_at</th>\n",
       "      <th>X06956_at</th>\n",
       "      <th>X16699_at</th>\n",
       "      <th>X83863_at</th>\n",
       "      <th>Z17240_at</th>\n",
       "      <th>L49218_f_at</th>\n",
       "      <th>M71243_f_at</th>\n",
       "      <th>Z78285_f_at</th>\n",
       "    </tr>\n",
       "  </thead>\n",
       "  <tbody>\n",
       "    <tr>\n",
       "      <th>count</th>\n",
       "      <td>47.000000</td>\n",
       "      <td>47.000000</td>\n",
       "      <td>47.000000</td>\n",
       "      <td>47.000000</td>\n",
       "      <td>47.000000</td>\n",
       "      <td>47.000000</td>\n",
       "      <td>47.00000</td>\n",
       "      <td>47.000000</td>\n",
       "      <td>47.000000</td>\n",
       "      <td>47.000000</td>\n",
       "      <td>...</td>\n",
       "      <td>47.000000</td>\n",
       "      <td>47.000000</td>\n",
       "      <td>47.000000</td>\n",
       "      <td>47.000000</td>\n",
       "      <td>47.00000</td>\n",
       "      <td>47.000000</td>\n",
       "      <td>47.000000</td>\n",
       "      <td>47.000000</td>\n",
       "      <td>47.000000</td>\n",
       "      <td>47.000000</td>\n",
       "    </tr>\n",
       "    <tr>\n",
       "      <th>mean</th>\n",
       "      <td>-122.468085</td>\n",
       "      <td>-170.553191</td>\n",
       "      <td>-17.191489</td>\n",
       "      <td>167.765957</td>\n",
       "      <td>-253.000000</td>\n",
       "      <td>-402.297872</td>\n",
       "      <td>-52.93617</td>\n",
       "      <td>-182.744681</td>\n",
       "      <td>75.382979</td>\n",
       "      <td>58.595745</td>\n",
       "      <td>...</td>\n",
       "      <td>166.787234</td>\n",
       "      <td>672.744681</td>\n",
       "      <td>-11.595745</td>\n",
       "      <td>369.510638</td>\n",
       "      <td>-33.12766</td>\n",
       "      <td>729.723404</td>\n",
       "      <td>304.297872</td>\n",
       "      <td>11.787234</td>\n",
       "      <td>318.170213</td>\n",
       "      <td>-38.829787</td>\n",
       "    </tr>\n",
       "    <tr>\n",
       "      <th>std</th>\n",
       "      <td>106.306540</td>\n",
       "      <td>103.665811</td>\n",
       "      <td>140.119613</td>\n",
       "      <td>113.852157</td>\n",
       "      <td>125.339365</td>\n",
       "      <td>164.107854</td>\n",
       "      <td>306.75223</td>\n",
       "      <td>100.924524</td>\n",
       "      <td>83.185898</td>\n",
       "      <td>202.370695</td>\n",
       "      <td>...</td>\n",
       "      <td>99.820695</td>\n",
       "      <td>309.385398</td>\n",
       "      <td>93.547398</td>\n",
       "      <td>437.394851</td>\n",
       "      <td>53.90798</td>\n",
       "      <td>417.500102</td>\n",
       "      <td>228.912449</td>\n",
       "      <td>50.331914</td>\n",
       "      <td>423.169270</td>\n",
       "      <td>39.965920</td>\n",
       "    </tr>\n",
       "    <tr>\n",
       "      <th>min</th>\n",
       "      <td>-476.000000</td>\n",
       "      <td>-531.000000</td>\n",
       "      <td>-410.000000</td>\n",
       "      <td>-36.000000</td>\n",
       "      <td>-541.000000</td>\n",
       "      <td>-810.000000</td>\n",
       "      <td>-1038.00000</td>\n",
       "      <td>-463.000000</td>\n",
       "      <td>-148.000000</td>\n",
       "      <td>-468.000000</td>\n",
       "      <td>...</td>\n",
       "      <td>-58.000000</td>\n",
       "      <td>91.000000</td>\n",
       "      <td>-295.000000</td>\n",
       "      <td>-24.000000</td>\n",
       "      <td>-220.00000</td>\n",
       "      <td>67.000000</td>\n",
       "      <td>-42.000000</td>\n",
       "      <td>-207.000000</td>\n",
       "      <td>-33.000000</td>\n",
       "      <td>-190.000000</td>\n",
       "    </tr>\n",
       "    <tr>\n",
       "      <th>25%</th>\n",
       "      <td>-153.500000</td>\n",
       "      <td>-218.500000</td>\n",
       "      <td>-99.500000</td>\n",
       "      <td>79.500000</td>\n",
       "      <td>-312.500000</td>\n",
       "      <td>-517.000000</td>\n",
       "      <td>-203.00000</td>\n",
       "      <td>-209.500000</td>\n",
       "      <td>8.000000</td>\n",
       "      <td>-68.000000</td>\n",
       "      <td>...</td>\n",
       "      <td>89.500000</td>\n",
       "      <td>468.500000</td>\n",
       "      <td>-66.500000</td>\n",
       "      <td>175.000000</td>\n",
       "      <td>-58.50000</td>\n",
       "      <td>453.500000</td>\n",
       "      <td>167.000000</td>\n",
       "      <td>-0.500000</td>\n",
       "      <td>106.000000</td>\n",
       "      <td>-62.000000</td>\n",
       "    </tr>\n",
       "    <tr>\n",
       "      <th>50%</th>\n",
       "      <td>-106.000000</td>\n",
       "      <td>-153.000000</td>\n",
       "      <td>-21.000000</td>\n",
       "      <td>168.000000</td>\n",
       "      <td>-230.000000</td>\n",
       "      <td>-394.000000</td>\n",
       "      <td>-66.00000</td>\n",
       "      <td>-153.000000</td>\n",
       "      <td>70.000000</td>\n",
       "      <td>31.000000</td>\n",
       "      <td>...</td>\n",
       "      <td>158.000000</td>\n",
       "      <td>639.000000</td>\n",
       "      <td>6.000000</td>\n",
       "      <td>249.000000</td>\n",
       "      <td>-22.00000</td>\n",
       "      <td>646.000000</td>\n",
       "      <td>302.000000</td>\n",
       "      <td>14.000000</td>\n",
       "      <td>193.000000</td>\n",
       "      <td>-39.000000</td>\n",
       "    </tr>\n",
       "    <tr>\n",
       "      <th>75%</th>\n",
       "      <td>-62.000000</td>\n",
       "      <td>-95.500000</td>\n",
       "      <td>42.500000</td>\n",
       "      <td>256.000000</td>\n",
       "      <td>-176.000000</td>\n",
       "      <td>-279.500000</td>\n",
       "      <td>115.50000</td>\n",
       "      <td>-120.500000</td>\n",
       "      <td>131.000000</td>\n",
       "      <td>188.000000</td>\n",
       "      <td>...</td>\n",
       "      <td>229.000000</td>\n",
       "      <td>836.000000</td>\n",
       "      <td>45.500000</td>\n",
       "      <td>452.500000</td>\n",
       "      <td>1.50000</td>\n",
       "      <td>865.500000</td>\n",
       "      <td>388.000000</td>\n",
       "      <td>33.500000</td>\n",
       "      <td>308.500000</td>\n",
       "      <td>-17.000000</td>\n",
       "    </tr>\n",
       "    <tr>\n",
       "      <th>max</th>\n",
       "      <td>86.000000</td>\n",
       "      <td>-13.000000</td>\n",
       "      <td>312.000000</td>\n",
       "      <td>431.000000</td>\n",
       "      <td>114.000000</td>\n",
       "      <td>-122.000000</td>\n",
       "      <td>709.00000</td>\n",
       "      <td>-24.000000</td>\n",
       "      <td>252.000000</td>\n",
       "      <td>506.000000</td>\n",
       "      <td>...</td>\n",
       "      <td>413.000000</td>\n",
       "      <td>1455.000000</td>\n",
       "      <td>218.000000</td>\n",
       "      <td>2527.000000</td>\n",
       "      <td>52.00000</td>\n",
       "      <td>1950.000000</td>\n",
       "      <td>1109.000000</td>\n",
       "      <td>115.000000</td>\n",
       "      <td>1971.000000</td>\n",
       "      <td>36.000000</td>\n",
       "    </tr>\n",
       "  </tbody>\n",
       "</table>\n",
       "<p>8 rows × 7129 columns</p>\n",
       "</div>"
      ],
      "text/plain": [
       "       AFFX-BioB-5_at  AFFX-BioB-M_at  AFFX-BioB-3_at  AFFX-BioC-5_at  \\\n",
       "count       47.000000       47.000000       47.000000       47.000000   \n",
       "mean      -122.468085     -170.553191      -17.191489      167.765957   \n",
       "std        106.306540      103.665811      140.119613      113.852157   \n",
       "min       -476.000000     -531.000000     -410.000000      -36.000000   \n",
       "25%       -153.500000     -218.500000      -99.500000       79.500000   \n",
       "50%       -106.000000     -153.000000      -21.000000      168.000000   \n",
       "75%        -62.000000      -95.500000       42.500000      256.000000   \n",
       "max         86.000000      -13.000000      312.000000      431.000000   \n",
       "\n",
       "       AFFX-BioC-3_at  AFFX-BioDn-5_at  AFFX-BioDn-3_at  AFFX-CreX-5_at  \\\n",
       "count       47.000000        47.000000         47.00000       47.000000   \n",
       "mean      -253.000000      -402.297872        -52.93617     -182.744681   \n",
       "std        125.339365       164.107854        306.75223      100.924524   \n",
       "min       -541.000000      -810.000000      -1038.00000     -463.000000   \n",
       "25%       -312.500000      -517.000000       -203.00000     -209.500000   \n",
       "50%       -230.000000      -394.000000        -66.00000     -153.000000   \n",
       "75%       -176.000000      -279.500000        115.50000     -120.500000   \n",
       "max        114.000000      -122.000000        709.00000      -24.000000   \n",
       "\n",
       "       AFFX-CreX-3_at  AFFX-BioB-5_st  ...   U48730_at    U58516_at  \\\n",
       "count       47.000000       47.000000  ...   47.000000    47.000000   \n",
       "mean        75.382979       58.595745  ...  166.787234   672.744681   \n",
       "std         83.185898      202.370695  ...   99.820695   309.385398   \n",
       "min       -148.000000     -468.000000  ...  -58.000000    91.000000   \n",
       "25%          8.000000      -68.000000  ...   89.500000   468.500000   \n",
       "50%         70.000000       31.000000  ...  158.000000   639.000000   \n",
       "75%        131.000000      188.000000  ...  229.000000   836.000000   \n",
       "max        252.000000      506.000000  ...  413.000000  1455.000000   \n",
       "\n",
       "        U73738_at    X06956_at  X16699_at    X83863_at    Z17240_at  \\\n",
       "count   47.000000    47.000000   47.00000    47.000000    47.000000   \n",
       "mean   -11.595745   369.510638  -33.12766   729.723404   304.297872   \n",
       "std     93.547398   437.394851   53.90798   417.500102   228.912449   \n",
       "min   -295.000000   -24.000000 -220.00000    67.000000   -42.000000   \n",
       "25%    -66.500000   175.000000  -58.50000   453.500000   167.000000   \n",
       "50%      6.000000   249.000000  -22.00000   646.000000   302.000000   \n",
       "75%     45.500000   452.500000    1.50000   865.500000   388.000000   \n",
       "max    218.000000  2527.000000   52.00000  1950.000000  1109.000000   \n",
       "\n",
       "       L49218_f_at  M71243_f_at  Z78285_f_at  \n",
       "count    47.000000    47.000000    47.000000  \n",
       "mean     11.787234   318.170213   -38.829787  \n",
       "std      50.331914   423.169270    39.965920  \n",
       "min    -207.000000   -33.000000  -190.000000  \n",
       "25%      -0.500000   106.000000   -62.000000  \n",
       "50%      14.000000   193.000000   -39.000000  \n",
       "75%      33.500000   308.500000   -17.000000  \n",
       "max     115.000000  1971.000000    36.000000  \n",
       "\n",
       "[8 rows x 7129 columns]"
      ]
     },
     "execution_count": 3,
     "metadata": {},
     "output_type": "execute_result"
    }
   ],
   "source": [
    "print(\"Parámetros estadísticos ALL: \")\n",
    "X[y==0].describe()"
   ]
  },
  {
   "cell_type": "code",
   "execution_count": 4,
   "id": "institutional-basin",
   "metadata": {},
   "outputs": [
    {
     "name": "stdout",
     "output_type": "stream",
     "text": [
      "Parámetros estadísticos AML: \n"
     ]
    },
    {
     "data": {
      "text/html": [
       "<div>\n",
       "<style scoped>\n",
       "    .dataframe tbody tr th:only-of-type {\n",
       "        vertical-align: middle;\n",
       "    }\n",
       "\n",
       "    .dataframe tbody tr th {\n",
       "        vertical-align: top;\n",
       "    }\n",
       "\n",
       "    .dataframe thead th {\n",
       "        text-align: right;\n",
       "    }\n",
       "</style>\n",
       "<table border=\"1\" class=\"dataframe\">\n",
       "  <thead>\n",
       "    <tr style=\"text-align: right;\">\n",
       "      <th></th>\n",
       "      <th>AFFX-BioB-5_at</th>\n",
       "      <th>AFFX-BioB-M_at</th>\n",
       "      <th>AFFX-BioB-3_at</th>\n",
       "      <th>AFFX-BioC-5_at</th>\n",
       "      <th>AFFX-BioC-3_at</th>\n",
       "      <th>AFFX-BioDn-5_at</th>\n",
       "      <th>AFFX-BioDn-3_at</th>\n",
       "      <th>AFFX-CreX-5_at</th>\n",
       "      <th>AFFX-CreX-3_at</th>\n",
       "      <th>AFFX-BioB-5_st</th>\n",
       "      <th>...</th>\n",
       "      <th>U48730_at</th>\n",
       "      <th>U58516_at</th>\n",
       "      <th>U73738_at</th>\n",
       "      <th>X06956_at</th>\n",
       "      <th>X16699_at</th>\n",
       "      <th>X83863_at</th>\n",
       "      <th>Z17240_at</th>\n",
       "      <th>L49218_f_at</th>\n",
       "      <th>M71243_f_at</th>\n",
       "      <th>Z78285_f_at</th>\n",
       "    </tr>\n",
       "  </thead>\n",
       "  <tbody>\n",
       "    <tr>\n",
       "      <th>count</th>\n",
       "      <td>25.000000</td>\n",
       "      <td>25.000000</td>\n",
       "      <td>25.000000</td>\n",
       "      <td>25.00000</td>\n",
       "      <td>25.000000</td>\n",
       "      <td>25.000000</td>\n",
       "      <td>25.000000</td>\n",
       "      <td>25.000000</td>\n",
       "      <td>25.000000</td>\n",
       "      <td>25.000000</td>\n",
       "      <td>...</td>\n",
       "      <td>25.00000</td>\n",
       "      <td>25.000000</td>\n",
       "      <td>25.000000</td>\n",
       "      <td>25.000000</td>\n",
       "      <td>25.000000</td>\n",
       "      <td>25.000000</td>\n",
       "      <td>25.000000</td>\n",
       "      <td>25.000000</td>\n",
       "      <td>25.000000</td>\n",
       "      <td>25.000000</td>\n",
       "    </tr>\n",
       "    <tr>\n",
       "      <th>mean</th>\n",
       "      <td>-99.760000</td>\n",
       "      <td>-140.520000</td>\n",
       "      <td>9.080000</td>\n",
       "      <td>229.92000</td>\n",
       "      <td>-253.880000</td>\n",
       "      <td>-384.520000</td>\n",
       "      <td>-87.040000</td>\n",
       "      <td>-205.640000</td>\n",
       "      <td>88.920000</td>\n",
       "      <td>172.640000</td>\n",
       "      <td>...</td>\n",
       "      <td>191.44000</td>\n",
       "      <td>660.160000</td>\n",
       "      <td>-12.040000</td>\n",
       "      <td>404.920000</td>\n",
       "      <td>-34.680000</td>\n",
       "      <td>876.120000</td>\n",
       "      <td>303.280000</td>\n",
       "      <td>5.400000</td>\n",
       "      <td>650.280000</td>\n",
       "      <td>-15.040000</td>\n",
       "    </tr>\n",
       "    <tr>\n",
       "      <th>std</th>\n",
       "      <td>79.052346</td>\n",
       "      <td>78.298638</td>\n",
       "      <td>80.230356</td>\n",
       "      <td>97.78161</td>\n",
       "      <td>118.546165</td>\n",
       "      <td>122.425188</td>\n",
       "      <td>242.161186</td>\n",
       "      <td>98.169021</td>\n",
       "      <td>101.298207</td>\n",
       "      <td>255.879998</td>\n",
       "      <td>...</td>\n",
       "      <td>81.87291</td>\n",
       "      <td>304.854293</td>\n",
       "      <td>76.332322</td>\n",
       "      <td>237.308154</td>\n",
       "      <td>49.434907</td>\n",
       "      <td>503.720766</td>\n",
       "      <td>160.357029</td>\n",
       "      <td>32.773211</td>\n",
       "      <td>856.377133</td>\n",
       "      <td>36.506255</td>\n",
       "    </tr>\n",
       "    <tr>\n",
       "      <th>min</th>\n",
       "      <td>-318.000000</td>\n",
       "      <td>-370.000000</td>\n",
       "      <td>-125.000000</td>\n",
       "      <td>31.00000</td>\n",
       "      <td>-456.000000</td>\n",
       "      <td>-581.000000</td>\n",
       "      <td>-726.000000</td>\n",
       "      <td>-390.000000</td>\n",
       "      <td>-86.000000</td>\n",
       "      <td>-217.000000</td>\n",
       "      <td>...</td>\n",
       "      <td>36.00000</td>\n",
       "      <td>244.000000</td>\n",
       "      <td>-275.000000</td>\n",
       "      <td>139.000000</td>\n",
       "      <td>-112.000000</td>\n",
       "      <td>87.000000</td>\n",
       "      <td>51.000000</td>\n",
       "      <td>-68.000000</td>\n",
       "      <td>-68.000000</td>\n",
       "      <td>-71.000000</td>\n",
       "    </tr>\n",
       "    <tr>\n",
       "      <th>25%</th>\n",
       "      <td>-137.000000</td>\n",
       "      <td>-185.000000</td>\n",
       "      <td>-50.000000</td>\n",
       "      <td>170.00000</td>\n",
       "      <td>-369.000000</td>\n",
       "      <td>-478.000000</td>\n",
       "      <td>-221.000000</td>\n",
       "      <td>-271.000000</td>\n",
       "      <td>-1.000000</td>\n",
       "      <td>-7.000000</td>\n",
       "      <td>...</td>\n",
       "      <td>134.00000</td>\n",
       "      <td>470.000000</td>\n",
       "      <td>-45.000000</td>\n",
       "      <td>261.000000</td>\n",
       "      <td>-66.000000</td>\n",
       "      <td>524.000000</td>\n",
       "      <td>208.000000</td>\n",
       "      <td>-12.000000</td>\n",
       "      <td>196.000000</td>\n",
       "      <td>-33.000000</td>\n",
       "    </tr>\n",
       "    <tr>\n",
       "      <th>50%</th>\n",
       "      <td>-95.000000</td>\n",
       "      <td>-122.000000</td>\n",
       "      <td>12.000000</td>\n",
       "      <td>230.00000</td>\n",
       "      <td>-209.000000</td>\n",
       "      <td>-385.000000</td>\n",
       "      <td>-34.000000</td>\n",
       "      <td>-210.000000</td>\n",
       "      <td>100.000000</td>\n",
       "      <td>167.000000</td>\n",
       "      <td>...</td>\n",
       "      <td>195.00000</td>\n",
       "      <td>621.000000</td>\n",
       "      <td>-8.000000</td>\n",
       "      <td>334.000000</td>\n",
       "      <td>-45.000000</td>\n",
       "      <td>752.000000</td>\n",
       "      <td>279.000000</td>\n",
       "      <td>0.000000</td>\n",
       "      <td>298.000000</td>\n",
       "      <td>-10.000000</td>\n",
       "    </tr>\n",
       "    <tr>\n",
       "      <th>75%</th>\n",
       "      <td>-32.000000</td>\n",
       "      <td>-100.000000</td>\n",
       "      <td>49.000000</td>\n",
       "      <td>318.00000</td>\n",
       "      <td>-171.000000</td>\n",
       "      <td>-287.000000</td>\n",
       "      <td>29.000000</td>\n",
       "      <td>-123.000000</td>\n",
       "      <td>153.000000</td>\n",
       "      <td>320.000000</td>\n",
       "      <td>...</td>\n",
       "      <td>214.00000</td>\n",
       "      <td>755.000000</td>\n",
       "      <td>35.000000</td>\n",
       "      <td>462.000000</td>\n",
       "      <td>11.000000</td>\n",
       "      <td>1110.000000</td>\n",
       "      <td>361.000000</td>\n",
       "      <td>26.000000</td>\n",
       "      <td>662.000000</td>\n",
       "      <td>0.000000</td>\n",
       "    </tr>\n",
       "    <tr>\n",
       "      <th>max</th>\n",
       "      <td>15.000000</td>\n",
       "      <td>-20.000000</td>\n",
       "      <td>212.000000</td>\n",
       "      <td>392.00000</td>\n",
       "      <td>-51.000000</td>\n",
       "      <td>-155.000000</td>\n",
       "      <td>358.000000</td>\n",
       "      <td>-11.000000</td>\n",
       "      <td>283.000000</td>\n",
       "      <td>878.000000</td>\n",
       "      <td>...</td>\n",
       "      <td>409.00000</td>\n",
       "      <td>1653.000000</td>\n",
       "      <td>102.000000</td>\n",
       "      <td>1075.000000</td>\n",
       "      <td>42.000000</td>\n",
       "      <td>2315.000000</td>\n",
       "      <td>642.000000</td>\n",
       "      <td>73.000000</td>\n",
       "      <td>3193.000000</td>\n",
       "      <td>78.000000</td>\n",
       "    </tr>\n",
       "  </tbody>\n",
       "</table>\n",
       "<p>8 rows × 7129 columns</p>\n",
       "</div>"
      ],
      "text/plain": [
       "       AFFX-BioB-5_at  AFFX-BioB-M_at  AFFX-BioB-3_at  AFFX-BioC-5_at  \\\n",
       "count       25.000000       25.000000       25.000000        25.00000   \n",
       "mean       -99.760000     -140.520000        9.080000       229.92000   \n",
       "std         79.052346       78.298638       80.230356        97.78161   \n",
       "min       -318.000000     -370.000000     -125.000000        31.00000   \n",
       "25%       -137.000000     -185.000000      -50.000000       170.00000   \n",
       "50%        -95.000000     -122.000000       12.000000       230.00000   \n",
       "75%        -32.000000     -100.000000       49.000000       318.00000   \n",
       "max         15.000000      -20.000000      212.000000       392.00000   \n",
       "\n",
       "       AFFX-BioC-3_at  AFFX-BioDn-5_at  AFFX-BioDn-3_at  AFFX-CreX-5_at  \\\n",
       "count       25.000000        25.000000        25.000000       25.000000   \n",
       "mean      -253.880000      -384.520000       -87.040000     -205.640000   \n",
       "std        118.546165       122.425188       242.161186       98.169021   \n",
       "min       -456.000000      -581.000000      -726.000000     -390.000000   \n",
       "25%       -369.000000      -478.000000      -221.000000     -271.000000   \n",
       "50%       -209.000000      -385.000000       -34.000000     -210.000000   \n",
       "75%       -171.000000      -287.000000        29.000000     -123.000000   \n",
       "max        -51.000000      -155.000000       358.000000      -11.000000   \n",
       "\n",
       "       AFFX-CreX-3_at  AFFX-BioB-5_st  ...  U48730_at    U58516_at  \\\n",
       "count       25.000000       25.000000  ...   25.00000    25.000000   \n",
       "mean        88.920000      172.640000  ...  191.44000   660.160000   \n",
       "std        101.298207      255.879998  ...   81.87291   304.854293   \n",
       "min        -86.000000     -217.000000  ...   36.00000   244.000000   \n",
       "25%         -1.000000       -7.000000  ...  134.00000   470.000000   \n",
       "50%        100.000000      167.000000  ...  195.00000   621.000000   \n",
       "75%        153.000000      320.000000  ...  214.00000   755.000000   \n",
       "max        283.000000      878.000000  ...  409.00000  1653.000000   \n",
       "\n",
       "        U73738_at    X06956_at   X16699_at    X83863_at   Z17240_at  \\\n",
       "count   25.000000    25.000000   25.000000    25.000000   25.000000   \n",
       "mean   -12.040000   404.920000  -34.680000   876.120000  303.280000   \n",
       "std     76.332322   237.308154   49.434907   503.720766  160.357029   \n",
       "min   -275.000000   139.000000 -112.000000    87.000000   51.000000   \n",
       "25%    -45.000000   261.000000  -66.000000   524.000000  208.000000   \n",
       "50%     -8.000000   334.000000  -45.000000   752.000000  279.000000   \n",
       "75%     35.000000   462.000000   11.000000  1110.000000  361.000000   \n",
       "max    102.000000  1075.000000   42.000000  2315.000000  642.000000   \n",
       "\n",
       "       L49218_f_at  M71243_f_at  Z78285_f_at  \n",
       "count    25.000000    25.000000    25.000000  \n",
       "mean      5.400000   650.280000   -15.040000  \n",
       "std      32.773211   856.377133    36.506255  \n",
       "min     -68.000000   -68.000000   -71.000000  \n",
       "25%     -12.000000   196.000000   -33.000000  \n",
       "50%       0.000000   298.000000   -10.000000  \n",
       "75%      26.000000   662.000000     0.000000  \n",
       "max      73.000000  3193.000000    78.000000  \n",
       "\n",
       "[8 rows x 7129 columns]"
      ]
     },
     "execution_count": 4,
     "metadata": {},
     "output_type": "execute_result"
    }
   ],
   "source": [
    "print(\"Parámetros estadísticos AML: \")\n",
    "X[y==1].describe()"
   ]
  },
  {
   "cell_type": "markdown",
   "id": "confident-prescription",
   "metadata": {},
   "source": [
    "Realizamos un análisis de componentes principales (para reducir la dimensionalidad de las instancias) y realizamos una representación gráfica. "
   ]
  },
  {
   "cell_type": "code",
   "execution_count": 5,
   "id": "respected-apple",
   "metadata": {},
   "outputs": [
    {
     "data": {
      "image/png": "[encoded data removed]",
      "text/plain": [
       "<Figure size 432x288 with 1 Axes>"
      ]
     },
     "metadata": {},
     "output_type": "display_data"
    }
   ],
   "source": [
    "pca = PCA(n_components=2)\n",
    "X_2D = pca.fit_transform(X)\n",
    "st = StandardScaler()\n",
    "X_2D = st.fit_transform(X_2D)\n",
    "\n",
    "plt.scatter(X_2D[:, 0], X_2D[:, 1], cmap=plt.cm.Set1, c=pd.get_dummies(y).iloc[:,0], edgecolor='k')\n",
    "plt.title(\"Representación bidimensional clasificación leucemia mieloide y linfoblástica\")\n",
    "plt.xlabel('PCA 1')\n",
    "plt.ylabel('PCA 2')\n",
    "plt.xticks(())\n",
    "plt.yticks(())\n",
    "plt.show()"
   ]
  },
  {
   "cell_type": "markdown",
   "id": "supreme-aurora",
   "metadata": {},
   "source": [
    "## Sets entrenamiento y test"
   ]
  },
  {
   "cell_type": "markdown",
   "id": "found-mining",
   "metadata": {},
   "source": [
    "Separamos instancias de entrenamiento y de test mediante validación tipo hold-out."
   ]
  },
  {
   "cell_type": "code",
   "execution_count": 6,
   "id": "ordinary-stanley",
   "metadata": {},
   "outputs": [
    {
     "name": "stdout",
     "output_type": "stream",
     "text": [
      "Numero de instancias en entrenamiento: 54 y test: 18\n"
     ]
    }
   ],
   "source": [
    "X_train, X_test, y_train, y_test = train_test_split(X, y, random_state=42, stratify=y)\n",
    "print(\"Numero de instancias en entrenamiento: {0} y test: {1}\".format(len(X_train),len(X_test)))"
   ]
  },
  {
   "cell_type": "code",
   "execution_count": 7,
   "id": "logical-symbol",
   "metadata": {},
   "outputs": [
    {
     "name": "stdout",
     "output_type": "stream",
     "text": [
      "Número de casos con ALL: 47. Número de casos con AML: 25\n"
     ]
    }
   ],
   "source": [
    "print('Número de casos con ALL: {0}. Número de casos con AML: {1}'.format(sum(y==0), sum(y==1)))"
   ]
  },
  {
   "cell_type": "markdown",
   "id": "involved-visit",
   "metadata": {},
   "source": [
    "Puesto que nuestro dataset se encuentra muy desbalanceado, utilizamos una estrategia de sobremuestreo para balancearlo a una proporción 1:1. Usamos para ello la librería **imblearn**. Para solventar que los casos de AML estén infrarrepresentados usamos una estrategia de sobremuestreo (generar nuevas instancias muestreando con reemplazo las instancias preexistentes)."
   ]
  },
  {
   "cell_type": "code",
   "execution_count": 8,
   "id": "sunset-numbers",
   "metadata": {},
   "outputs": [],
   "source": [
    "sampling_strategy = 1 #proporción 1:1\n",
    "ros = RandomOverSampler(sampling_strategy=sampling_strategy)\n",
    "X_train, y_train = ros.fit_resample(X_train, y_train)\n",
    "#X_test, y_test = ros.fit_resample(X_test, y_test) Aplicar sobremuestreo a set de prueba"
   ]
  },
  {
   "cell_type": "code",
   "execution_count": 9,
   "id": "economic-harassment",
   "metadata": {},
   "outputs": [
    {
     "name": "stdout",
     "output_type": "stream",
     "text": [
      "Número de casos subgrupo entrenamiento con ALL: 35. Número de casos con AML: 35\n",
      "Número de casos subgrupo test con ALL: 12. Número de casos con AML: 6\n"
     ]
    }
   ],
   "source": [
    "print('Número de casos subgrupo entrenamiento con ALL: {0}. Número de casos con AML: {1}'.format(sum(y_train==0), sum(y_train==1)))\n",
    "print('Número de casos subgrupo test con ALL: {0}. Número de casos con AML: {1}'.format(sum(y_test==0), sum(y_test==1)))"
   ]
  },
  {
   "cell_type": "markdown",
   "id": "fresh-butler",
   "metadata": {},
   "source": [
    "## Clasificación mediante RandomForest"
   ]
  },
  {
   "cell_type": "markdown",
   "id": "defined-payday",
   "metadata": {},
   "source": [
    "Empleamos algoritmo RandomForest de *sklearn*:"
   ]
  },
  {
   "cell_type": "code",
   "execution_count": 10,
   "id": "decent-hybrid",
   "metadata": {},
   "outputs": [
    {
     "name": "stdout",
     "output_type": "stream",
     "text": [
      "El porcentaje de acierto obtenido por RF es 77.77777777777779\n"
     ]
    }
   ],
   "source": [
    "rf = RandomForestClassifier(n_estimators=500, random_state=43)\n",
    "rf.fit(X_train, y_train) \n",
    "\n",
    "y_pred = rf.predict(X_test)\n",
    "acc = accuracy_score(y_test,y_pred)\n",
    "print(\"El porcentaje de acierto obtenido por RF es\",acc*100)"
   ]
  },
  {
   "cell_type": "markdown",
   "id": "wireless-modification",
   "metadata": {},
   "source": [
    "Calculamos los principales parámetros estadísticos del clasificador:"
   ]
  },
  {
   "cell_type": "code",
   "execution_count": 11,
   "id": "brief-field",
   "metadata": {},
   "outputs": [
    {
     "name": "stdout",
     "output_type": "stream",
     "text": [
      "              precision    recall  f1-score   support\n",
      "\n",
      "           0       0.75      1.00      0.86        12\n",
      "           1       1.00      0.33      0.50         6\n",
      "\n",
      "    accuracy                           0.78        18\n",
      "   macro avg       0.88      0.67      0.68        18\n",
      "weighted avg       0.83      0.78      0.74        18\n",
      "\n",
      "La medida F1 para el clasificador RandomForestClassifier es 0.5000\n"
     ]
    }
   ],
   "source": [
    "print(classification_report(y_test,y_pred))\n",
    "f1 = f1_score(y_test,y_pred)\n",
    "print(\"La medida F1 para el clasificador %s es %.4f\"%(rf.__class__.__name__,f1))"
   ]
  },
  {
   "cell_type": "markdown",
   "id": "brazilian-bhutan",
   "metadata": {},
   "source": [
    "## Interpretación clasificador"
   ]
  },
  {
   "cell_type": "markdown",
   "id": "vulnerable-density",
   "metadata": {},
   "source": [
    "Una de las dificultades a la hora de utilizar algoritmos de caja negra es su interpretabilidad. ¿Por qué tiene una baja sensibilidad a los pacientes con AML? ¿Qué es lo que sobreexpresan o infraexpresan los pacientes con ALL y que el clasificador es capaz de reconocer?"
   ]
  },
  {
   "cell_type": "markdown",
   "id": "sorted-panic",
   "metadata": {},
   "source": [
    "Para buscar las variables de entrada que más contribuyen a predecir la salida:"
   ]
  },
  {
   "cell_type": "markdown",
   "id": "assumed-award",
   "metadata": {},
   "source": [
    "#### Reducción nº de variables"
   ]
  },
  {
   "cell_type": "markdown",
   "id": "documentary-objective",
   "metadata": {},
   "source": [
    "Representamos las 25 variables más determinantes en la predicción del modelo:"
   ]
  },
  {
   "cell_type": "code",
   "execution_count": 12,
   "id": "young-thread",
   "metadata": {},
   "outputs": [
    {
     "data": {
      "image/png": "[encoded data removed]",
      "text/plain": [
       "<Figure size 432x288 with 1 Axes>"
      ]
     },
     "metadata": {
      "needs_background": "light"
     },
     "output_type": "display_data"
    }
   ],
   "source": [
    "importancia = rf.feature_importances_\n",
    "(pd.Series(importancia, index=X_train.columns).nlargest(20).plot(kind='barh'))\n",
    "plt.show()"
   ]
  },
  {
   "cell_type": "markdown",
   "id": "reported-floor",
   "metadata": {},
   "source": [
    "Si a continuación volvemos a entrenar el modelo con únicamente las n- variables más importantes, ¿empeora significativamente la calidad del clasificador? Realizando pruebas, se determina que la relación nº de variables/ calidad del modelo es óptima con 10 las variables que más contribuyen a la predicción. "
   ]
  },
  {
   "cell_type": "code",
   "execution_count": 28,
   "id": "automatic-poison",
   "metadata": {},
   "outputs": [
    {
     "name": "stdout",
     "output_type": "stream",
     "text": [
      "El acierto con el modelo simplificado a 10 variables es 77.7778\n"
     ]
    }
   ],
   "source": [
    "fs = SelectFromModel(rf,prefit=True, max_features=10) \n",
    "X_train_fs = fs.transform(X_train)\n",
    "X_test_fs = fs.transform(X_test)\n",
    "\n",
    "rf_fs = RandomForestClassifier(random_state=43)      #Reentrenamos modelo específico de menos variables\n",
    "rf_fs.fit(X_train_fs, y_train)\n",
    "\n",
    "y_pred = rf_fs.predict(X_test_fs)\n",
    "acc = accuracy_score(y_test,y_pred)\n",
    "print(\"El acierto con el modelo simplificado a %d variables es %.4f\"%(X_test_fs.shape[1],acc*100))\n"
   ]
  },
  {
   "cell_type": "markdown",
   "id": "sexual-cleaning",
   "metadata": {},
   "source": [
    "Puesto que las predicciones dependen mucho de la forma en que se han dividido los datos, procedemos a realizar validación cruzada:"
   ]
  },
  {
   "cell_type": "code",
   "execution_count": 32,
   "id": "exterior-course",
   "metadata": {},
   "outputs": [
    {
     "name": "stdout",
     "output_type": "stream",
     "text": [
      "0.79 de acierto con una desviación estándar de  0.16\n"
     ]
    }
   ],
   "source": [
    "from sklearn.model_selection import cross_val_score\n",
    "rf_fs_cross = RandomForestClassifier(random_state=43)\n",
    "scores = cross_val_score(rf_fs_cross, fs.transform(X), y, cv=5)\n",
    "print(\"%0.2f de acierto con una desviación estándar de  %0.2f\" % (scores.mean(), scores.std()))"
   ]
  },
  {
   "cell_type": "code",
   "execution_count": 31,
   "id": "smooth-convert",
   "metadata": {},
   "outputs": [
    {
     "name": "stdout",
     "output_type": "stream",
     "text": [
      "0.74 de F1 con una desviación estándar de  0.18\n"
     ]
    }
   ],
   "source": [
    "scores = cross_val_score(\n",
    "rf_fs_cross, fs.transform(X), y, cv=5, scoring='f1_macro')\n",
    "scores\n",
    "print(\"%0.2f de F1 con una desviación estándar de  %0.2f\" % (scores.mean(), scores.std()))"
   ]
  },
  {
   "cell_type": "markdown",
   "id": "substantial-village",
   "metadata": {},
   "source": [
    "#### Visualización RandomForest reducido"
   ]
  },
  {
   "cell_type": "code",
   "execution_count": 34,
   "id": "wrong-palestine",
   "metadata": {},
   "outputs": [
    {
     "data": {
      "image/svg+xml": [
       "<?xml version=\"1.0\" encoding=\"UTF-8\" standalone=\"no\"?>\n",
       "<!DOCTYPE svg PUBLIC \"-//W3C//DTD SVG 1.1//EN\"\n",
       " \"http://www.w3.org/Graphics/SVG/1.1/DTD/svg11.dtd\">\n",
       "<!-- Generated by graphviz version 2.46.1 (0)\n",
       " -->\n",
       "<!-- Title: Tree Pages: 1 -->\n",
       "<svg width=\"928pt\" height=\"552pt\"\n",
       " viewBox=\"0.00 0.00 927.50 552.00\" xmlns=\"http://www.w3.org/2000/svg\" xmlns:xlink=\"http://www.w3.org/1999/xlink\">\n",
       "<g id=\"graph0\" class=\"graph\" transform=\"scale(1 1) rotate(0) translate(4 548)\">\n",
       "<title>Tree</title>\n",
       "<polygon fill=\"white\" stroke=\"transparent\" points=\"-4,4 -4,-548 923.5,-548 923.5,4 -4,4\"/>\n",
       "<!-- 0 -->\n",
       "<g id=\"node1\" class=\"node\">\n",
       "<title>0</title>\n",
       "<polygon fill=\"#fae5d6\" stroke=\"black\" points=\"459,-544 293,-544 293,-461 459,-461 459,-544\"/>\n",
       "<text text-anchor=\"middle\" x=\"376\" y=\"-528.8\" font-family=\"Times,serif\" font-size=\"14.00\">M84526_at &lt;= &#45;40.5</text>\n",
       "<text text-anchor=\"middle\" x=\"376\" y=\"-513.8\" font-family=\"Times,serif\" font-size=\"14.00\">gini = 0.493</text>\n",
       "<text text-anchor=\"middle\" x=\"376\" y=\"-498.8\" font-family=\"Times,serif\" font-size=\"14.00\">samples = 45</text>\n",
       "<text text-anchor=\"middle\" x=\"376\" y=\"-483.8\" font-family=\"Times,serif\" font-size=\"14.00\">value = [39, 31]</text>\n",
       "<text text-anchor=\"middle\" x=\"376\" y=\"-468.8\" font-family=\"Times,serif\" font-size=\"14.00\">class = ALL</text>\n",
       "</g>\n",
       "<!-- 1 -->\n",
       "<g id=\"node2\" class=\"node\">\n",
       "<title>1</title>\n",
       "<polygon fill=\"#e78a47\" stroke=\"black\" points=\"369,-425 201,-425 201,-342 369,-342 369,-425\"/>\n",
       "<text text-anchor=\"middle\" x=\"285\" y=\"-409.8\" font-family=\"Times,serif\" font-size=\"14.00\">U46751_at &lt;= 799.0</text>\n",
       "<text text-anchor=\"middle\" x=\"285\" y=\"-394.8\" font-family=\"Times,serif\" font-size=\"14.00\">gini = 0.121</text>\n",
       "<text text-anchor=\"middle\" x=\"285\" y=\"-379.8\" font-family=\"Times,serif\" font-size=\"14.00\">samples = 20</text>\n",
       "<text text-anchor=\"middle\" x=\"285\" y=\"-364.8\" font-family=\"Times,serif\" font-size=\"14.00\">value = [29, 2]</text>\n",
       "<text text-anchor=\"middle\" x=\"285\" y=\"-349.8\" font-family=\"Times,serif\" font-size=\"14.00\">class = ALL</text>\n",
       "</g>\n",
       "<!-- 0&#45;&gt;1 -->\n",
       "<g id=\"edge1\" class=\"edge\">\n",
       "<title>0&#45;&gt;1</title>\n",
       "<path fill=\"none\" stroke=\"black\" d=\"M344.43,-460.91C337.44,-451.92 329.97,-442.32 322.76,-433.05\"/>\n",
       "<polygon fill=\"black\" stroke=\"black\" points=\"325.42,-430.77 316.52,-425.02 319.89,-435.06 325.42,-430.77\"/>\n",
       "<text text-anchor=\"middle\" x=\"313.42\" y=\"-446.13\" font-family=\"Times,serif\" font-size=\"14.00\">True</text>\n",
       "</g>\n",
       "<!-- 6 -->\n",
       "<g id=\"node7\" class=\"node\">\n",
       "<title>6</title>\n",
       "<polygon fill=\"#7dbfee\" stroke=\"black\" points=\"548.5,-425 387.5,-425 387.5,-342 548.5,-342 548.5,-425\"/>\n",
       "<text text-anchor=\"middle\" x=\"468\" y=\"-409.8\" font-family=\"Times,serif\" font-size=\"14.00\">X65977_at &lt;= &#45;46.0</text>\n",
       "<text text-anchor=\"middle\" x=\"468\" y=\"-394.8\" font-family=\"Times,serif\" font-size=\"14.00\">gini = 0.381</text>\n",
       "<text text-anchor=\"middle\" x=\"468\" y=\"-379.8\" font-family=\"Times,serif\" font-size=\"14.00\">samples = 25</text>\n",
       "<text text-anchor=\"middle\" x=\"468\" y=\"-364.8\" font-family=\"Times,serif\" font-size=\"14.00\">value = [10, 29]</text>\n",
       "<text text-anchor=\"middle\" x=\"468\" y=\"-349.8\" font-family=\"Times,serif\" font-size=\"14.00\">class = AML</text>\n",
       "</g>\n",
       "<!-- 0&#45;&gt;6 -->\n",
       "<g id=\"edge6\" class=\"edge\">\n",
       "<title>0&#45;&gt;6</title>\n",
       "<path fill=\"none\" stroke=\"black\" d=\"M407.92,-460.91C414.98,-451.92 422.54,-442.32 429.82,-433.05\"/>\n",
       "<polygon fill=\"black\" stroke=\"black\" points=\"432.71,-435.05 436.14,-425.02 427.2,-430.72 432.71,-435.05\"/>\n",
       "<text text-anchor=\"middle\" x=\"439.11\" y=\"-446.14\" font-family=\"Times,serif\" font-size=\"14.00\">False</text>\n",
       "</g>\n",
       "<!-- 2 -->\n",
       "<g id=\"node3\" class=\"node\">\n",
       "<title>2</title>\n",
       "<polygon fill=\"#ffffff\" stroke=\"black\" points=\"210,-306 0,-306 0,-223 210,-223 210,-306\"/>\n",
       "<text text-anchor=\"middle\" x=\"105\" y=\"-290.8\" font-family=\"Times,serif\" font-size=\"14.00\">M96326_rna1_at &lt;= 665.0</text>\n",
       "<text text-anchor=\"middle\" x=\"105\" y=\"-275.8\" font-family=\"Times,serif\" font-size=\"14.00\">gini = 0.5</text>\n",
       "<text text-anchor=\"middle\" x=\"105\" y=\"-260.8\" font-family=\"Times,serif\" font-size=\"14.00\">samples = 3</text>\n",
       "<text text-anchor=\"middle\" x=\"105\" y=\"-245.8\" font-family=\"Times,serif\" font-size=\"14.00\">value = [2, 2]</text>\n",
       "<text text-anchor=\"middle\" x=\"105\" y=\"-230.8\" font-family=\"Times,serif\" font-size=\"14.00\">class = ALL</text>\n",
       "</g>\n",
       "<!-- 1&#45;&gt;2 -->\n",
       "<g id=\"edge2\" class=\"edge\">\n",
       "<title>1&#45;&gt;2</title>\n",
       "<path fill=\"none\" stroke=\"black\" d=\"M222.55,-341.91C207.47,-332.11 191.25,-321.56 175.82,-311.53\"/>\n",
       "<polygon fill=\"black\" stroke=\"black\" points=\"177.63,-308.54 167.34,-306.02 173.82,-314.41 177.63,-308.54\"/>\n",
       "</g>\n",
       "<!-- 5 -->\n",
       "<g id=\"node6\" class=\"node\">\n",
       "<title>5</title>\n",
       "<polygon fill=\"#e58139\" stroke=\"black\" points=\"350,-298.5 228,-298.5 228,-230.5 350,-230.5 350,-298.5\"/>\n",
       "<text text-anchor=\"middle\" x=\"289\" y=\"-283.3\" font-family=\"Times,serif\" font-size=\"14.00\">gini = 0.0</text>\n",
       "<text text-anchor=\"middle\" x=\"289\" y=\"-268.3\" font-family=\"Times,serif\" font-size=\"14.00\">samples = 17</text>\n",
       "<text text-anchor=\"middle\" x=\"289\" y=\"-253.3\" font-family=\"Times,serif\" font-size=\"14.00\">value = [27, 0]</text>\n",
       "<text text-anchor=\"middle\" x=\"289\" y=\"-238.3\" font-family=\"Times,serif\" font-size=\"14.00\">class = ALL</text>\n",
       "</g>\n",
       "<!-- 1&#45;&gt;5 -->\n",
       "<g id=\"edge5\" class=\"edge\">\n",
       "<title>1&#45;&gt;5</title>\n",
       "<path fill=\"none\" stroke=\"black\" d=\"M286.39,-341.91C286.75,-331.2 287.15,-319.62 287.52,-308.78\"/>\n",
       "<polygon fill=\"black\" stroke=\"black\" points=\"291.02,-308.78 287.87,-298.67 284.03,-308.54 291.02,-308.78\"/>\n",
       "</g>\n",
       "<!-- 3 -->\n",
       "<g id=\"node4\" class=\"node\">\n",
       "<title>3</title>\n",
       "<polygon fill=\"#e58139\" stroke=\"black\" points=\"141.5,-179.5 28.5,-179.5 28.5,-111.5 141.5,-111.5 141.5,-179.5\"/>\n",
       "<text text-anchor=\"middle\" x=\"85\" y=\"-164.3\" font-family=\"Times,serif\" font-size=\"14.00\">gini = 0.0</text>\n",
       "<text text-anchor=\"middle\" x=\"85\" y=\"-149.3\" font-family=\"Times,serif\" font-size=\"14.00\">samples = 1</text>\n",
       "<text text-anchor=\"middle\" x=\"85\" y=\"-134.3\" font-family=\"Times,serif\" font-size=\"14.00\">value = [2, 0]</text>\n",
       "<text text-anchor=\"middle\" x=\"85\" y=\"-119.3\" font-family=\"Times,serif\" font-size=\"14.00\">class = ALL</text>\n",
       "</g>\n",
       "<!-- 2&#45;&gt;3 -->\n",
       "<g id=\"edge3\" class=\"edge\">\n",
       "<title>2&#45;&gt;3</title>\n",
       "<path fill=\"none\" stroke=\"black\" d=\"M98.06,-222.91C96.23,-212.2 94.25,-200.62 92.4,-189.78\"/>\n",
       "<polygon fill=\"black\" stroke=\"black\" points=\"95.8,-188.93 90.67,-179.67 88.9,-190.11 95.8,-188.93\"/>\n",
       "</g>\n",
       "<!-- 4 -->\n",
       "<g id=\"node5\" class=\"node\">\n",
       "<title>4</title>\n",
       "<polygon fill=\"#399de5\" stroke=\"black\" points=\"272.5,-179.5 159.5,-179.5 159.5,-111.5 272.5,-111.5 272.5,-179.5\"/>\n",
       "<text text-anchor=\"middle\" x=\"216\" y=\"-164.3\" font-family=\"Times,serif\" font-size=\"14.00\">gini = 0.0</text>\n",
       "<text text-anchor=\"middle\" x=\"216\" y=\"-149.3\" font-family=\"Times,serif\" font-size=\"14.00\">samples = 2</text>\n",
       "<text text-anchor=\"middle\" x=\"216\" y=\"-134.3\" font-family=\"Times,serif\" font-size=\"14.00\">value = [0, 2]</text>\n",
       "<text text-anchor=\"middle\" x=\"216\" y=\"-119.3\" font-family=\"Times,serif\" font-size=\"14.00\">class = AML</text>\n",
       "</g>\n",
       "<!-- 2&#45;&gt;4 -->\n",
       "<g id=\"edge4\" class=\"edge\">\n",
       "<title>2&#45;&gt;4</title>\n",
       "<path fill=\"none\" stroke=\"black\" d=\"M143.51,-222.91C154.5,-211.32 166.48,-198.7 177.47,-187.11\"/>\n",
       "<polygon fill=\"black\" stroke=\"black\" points=\"180.19,-189.33 184.53,-179.67 175.11,-184.51 180.19,-189.33\"/>\n",
       "</g>\n",
       "<!-- 7 -->\n",
       "<g id=\"node8\" class=\"node\">\n",
       "<title>7</title>\n",
       "<polygon fill=\"#f2c09c\" stroke=\"black\" points=\"552.5,-306 375.5,-306 375.5,-223 552.5,-223 552.5,-306\"/>\n",
       "<text text-anchor=\"middle\" x=\"464\" y=\"-290.8\" font-family=\"Times,serif\" font-size=\"14.00\">U46751_at &lt;= 2844.5</text>\n",
       "<text text-anchor=\"middle\" x=\"464\" y=\"-275.8\" font-family=\"Times,serif\" font-size=\"14.00\">gini = 0.444</text>\n",
       "<text text-anchor=\"middle\" x=\"464\" y=\"-260.8\" font-family=\"Times,serif\" font-size=\"14.00\">samples = 6</text>\n",
       "<text text-anchor=\"middle\" x=\"464\" y=\"-245.8\" font-family=\"Times,serif\" font-size=\"14.00\">value = [8, 4]</text>\n",
       "<text text-anchor=\"middle\" x=\"464\" y=\"-230.8\" font-family=\"Times,serif\" font-size=\"14.00\">class = ALL</text>\n",
       "</g>\n",
       "<!-- 6&#45;&gt;7 -->\n",
       "<g id=\"edge7\" class=\"edge\">\n",
       "<title>6&#45;&gt;7</title>\n",
       "<path fill=\"none\" stroke=\"black\" d=\"M466.61,-341.91C466.33,-333.56 466.02,-324.67 465.73,-316.02\"/>\n",
       "<polygon fill=\"black\" stroke=\"black\" points=\"469.23,-315.9 465.39,-306.02 462.23,-316.13 469.23,-315.9\"/>\n",
       "</g>\n",
       "<!-- 10 -->\n",
       "<g id=\"node11\" class=\"node\">\n",
       "<title>10</title>\n",
       "<polygon fill=\"#49a5e7\" stroke=\"black\" points=\"746,-306 570,-306 570,-223 746,-223 746,-306\"/>\n",
       "<text text-anchor=\"middle\" x=\"658\" y=\"-290.8\" font-family=\"Times,serif\" font-size=\"14.00\">AF005043_at &lt;= 71.5</text>\n",
       "<text text-anchor=\"middle\" x=\"658\" y=\"-275.8\" font-family=\"Times,serif\" font-size=\"14.00\">gini = 0.137</text>\n",
       "<text text-anchor=\"middle\" x=\"658\" y=\"-260.8\" font-family=\"Times,serif\" font-size=\"14.00\">samples = 19</text>\n",
       "<text text-anchor=\"middle\" x=\"658\" y=\"-245.8\" font-family=\"Times,serif\" font-size=\"14.00\">value = [2, 25]</text>\n",
       "<text text-anchor=\"middle\" x=\"658\" y=\"-230.8\" font-family=\"Times,serif\" font-size=\"14.00\">class = AML</text>\n",
       "</g>\n",
       "<!-- 6&#45;&gt;10 -->\n",
       "<g id=\"edge10\" class=\"edge\">\n",
       "<title>6&#45;&gt;10</title>\n",
       "<path fill=\"none\" stroke=\"black\" d=\"M533.92,-341.91C549.84,-332.11 566.96,-321.56 583.25,-311.53\"/>\n",
       "<polygon fill=\"black\" stroke=\"black\" points=\"585.52,-314.24 592.2,-306.02 581.85,-308.28 585.52,-314.24\"/>\n",
       "</g>\n",
       "<!-- 8 -->\n",
       "<g id=\"node9\" class=\"node\">\n",
       "<title>8</title>\n",
       "<polygon fill=\"#e58139\" stroke=\"black\" points=\"421.5,-179.5 308.5,-179.5 308.5,-111.5 421.5,-111.5 421.5,-179.5\"/>\n",
       "<text text-anchor=\"middle\" x=\"365\" y=\"-164.3\" font-family=\"Times,serif\" font-size=\"14.00\">gini = 0.0</text>\n",
       "<text text-anchor=\"middle\" x=\"365\" y=\"-149.3\" font-family=\"Times,serif\" font-size=\"14.00\">samples = 4</text>\n",
       "<text text-anchor=\"middle\" x=\"365\" y=\"-134.3\" font-family=\"Times,serif\" font-size=\"14.00\">value = [8, 0]</text>\n",
       "<text text-anchor=\"middle\" x=\"365\" y=\"-119.3\" font-family=\"Times,serif\" font-size=\"14.00\">class = ALL</text>\n",
       "</g>\n",
       "<!-- 7&#45;&gt;8 -->\n",
       "<g id=\"edge8\" class=\"edge\">\n",
       "<title>7&#45;&gt;8</title>\n",
       "<path fill=\"none\" stroke=\"black\" d=\"M429.65,-222.91C419.94,-211.43 409.37,-198.94 399.64,-187.44\"/>\n",
       "<polygon fill=\"black\" stroke=\"black\" points=\"402.2,-185.04 393.06,-179.67 396.85,-189.56 402.2,-185.04\"/>\n",
       "</g>\n",
       "<!-- 9 -->\n",
       "<g id=\"node10\" class=\"node\">\n",
       "<title>9</title>\n",
       "<polygon fill=\"#399de5\" stroke=\"black\" points=\"552.5,-179.5 439.5,-179.5 439.5,-111.5 552.5,-111.5 552.5,-179.5\"/>\n",
       "<text text-anchor=\"middle\" x=\"496\" y=\"-164.3\" font-family=\"Times,serif\" font-size=\"14.00\">gini = 0.0</text>\n",
       "<text text-anchor=\"middle\" x=\"496\" y=\"-149.3\" font-family=\"Times,serif\" font-size=\"14.00\">samples = 2</text>\n",
       "<text text-anchor=\"middle\" x=\"496\" y=\"-134.3\" font-family=\"Times,serif\" font-size=\"14.00\">value = [0, 4]</text>\n",
       "<text text-anchor=\"middle\" x=\"496\" y=\"-119.3\" font-family=\"Times,serif\" font-size=\"14.00\">class = AML</text>\n",
       "</g>\n",
       "<!-- 7&#45;&gt;9 -->\n",
       "<g id=\"edge9\" class=\"edge\">\n",
       "<title>7&#45;&gt;9</title>\n",
       "<path fill=\"none\" stroke=\"black\" d=\"M475.1,-222.91C478.06,-212.09 481.26,-200.38 484.26,-189.44\"/>\n",
       "<polygon fill=\"black\" stroke=\"black\" points=\"487.67,-190.24 486.93,-179.67 480.91,-188.39 487.67,-190.24\"/>\n",
       "</g>\n",
       "<!-- 11 -->\n",
       "<g id=\"node12\" class=\"node\">\n",
       "<title>11</title>\n",
       "<polygon fill=\"#399de5\" stroke=\"black\" points=\"702,-179.5 580,-179.5 580,-111.5 702,-111.5 702,-179.5\"/>\n",
       "<text text-anchor=\"middle\" x=\"641\" y=\"-164.3\" font-family=\"Times,serif\" font-size=\"14.00\">gini = 0.0</text>\n",
       "<text text-anchor=\"middle\" x=\"641\" y=\"-149.3\" font-family=\"Times,serif\" font-size=\"14.00\">samples = 16</text>\n",
       "<text text-anchor=\"middle\" x=\"641\" y=\"-134.3\" font-family=\"Times,serif\" font-size=\"14.00\">value = [0, 23]</text>\n",
       "<text text-anchor=\"middle\" x=\"641\" y=\"-119.3\" font-family=\"Times,serif\" font-size=\"14.00\">class = AML</text>\n",
       "</g>\n",
       "<!-- 10&#45;&gt;11 -->\n",
       "<g id=\"edge11\" class=\"edge\">\n",
       "<title>10&#45;&gt;11</title>\n",
       "<path fill=\"none\" stroke=\"black\" d=\"M652.1,-222.91C650.55,-212.2 648.86,-200.62 647.29,-189.78\"/>\n",
       "<polygon fill=\"black\" stroke=\"black\" points=\"650.72,-189.06 645.82,-179.67 643.79,-190.07 650.72,-189.06\"/>\n",
       "</g>\n",
       "<!-- 12 -->\n",
       "<g id=\"node13\" class=\"node\">\n",
       "<title>12</title>\n",
       "<polygon fill=\"#ffffff\" stroke=\"black\" points=\"876,-187 720,-187 720,-104 876,-104 876,-187\"/>\n",
       "<text text-anchor=\"middle\" x=\"798\" y=\"-171.8\" font-family=\"Times,serif\" font-size=\"14.00\">L09717_at &lt;= 98.0</text>\n",
       "<text text-anchor=\"middle\" x=\"798\" y=\"-156.8\" font-family=\"Times,serif\" font-size=\"14.00\">gini = 0.5</text>\n",
       "<text text-anchor=\"middle\" x=\"798\" y=\"-141.8\" font-family=\"Times,serif\" font-size=\"14.00\">samples = 3</text>\n",
       "<text text-anchor=\"middle\" x=\"798\" y=\"-126.8\" font-family=\"Times,serif\" font-size=\"14.00\">value = [2, 2]</text>\n",
       "<text text-anchor=\"middle\" x=\"798\" y=\"-111.8\" font-family=\"Times,serif\" font-size=\"14.00\">class = ALL</text>\n",
       "</g>\n",
       "<!-- 10&#45;&gt;12 -->\n",
       "<g id=\"edge12\" class=\"edge\">\n",
       "<title>10&#45;&gt;12</title>\n",
       "<path fill=\"none\" stroke=\"black\" d=\"M706.57,-222.91C717.87,-213.47 729.98,-203.34 741.58,-193.65\"/>\n",
       "<polygon fill=\"black\" stroke=\"black\" points=\"744.08,-196.12 749.51,-187.02 739.6,-190.75 744.08,-196.12\"/>\n",
       "</g>\n",
       "<!-- 13 -->\n",
       "<g id=\"node14\" class=\"node\">\n",
       "<title>13</title>\n",
       "<polygon fill=\"#e58139\" stroke=\"black\" points=\"788.5,-68 675.5,-68 675.5,0 788.5,0 788.5,-68\"/>\n",
       "<text text-anchor=\"middle\" x=\"732\" y=\"-52.8\" font-family=\"Times,serif\" font-size=\"14.00\">gini = 0.0</text>\n",
       "<text text-anchor=\"middle\" x=\"732\" y=\"-37.8\" font-family=\"Times,serif\" font-size=\"14.00\">samples = 2</text>\n",
       "<text text-anchor=\"middle\" x=\"732\" y=\"-22.8\" font-family=\"Times,serif\" font-size=\"14.00\">value = [2, 0]</text>\n",
       "<text text-anchor=\"middle\" x=\"732\" y=\"-7.8\" font-family=\"Times,serif\" font-size=\"14.00\">class = ALL</text>\n",
       "</g>\n",
       "<!-- 12&#45;&gt;13 -->\n",
       "<g id=\"edge13\" class=\"edge\">\n",
       "<title>12&#45;&gt;13</title>\n",
       "<path fill=\"none\" stroke=\"black\" d=\"M773.42,-103.73C768.15,-94.97 762.56,-85.7 757.26,-76.91\"/>\n",
       "<polygon fill=\"black\" stroke=\"black\" points=\"760.23,-75.06 752.07,-68.3 754.24,-78.67 760.23,-75.06\"/>\n",
       "</g>\n",
       "<!-- 14 -->\n",
       "<g id=\"node15\" class=\"node\">\n",
       "<title>14</title>\n",
       "<polygon fill=\"#399de5\" stroke=\"black\" points=\"919.5,-68 806.5,-68 806.5,0 919.5,0 919.5,-68\"/>\n",
       "<text text-anchor=\"middle\" x=\"863\" y=\"-52.8\" font-family=\"Times,serif\" font-size=\"14.00\">gini = 0.0</text>\n",
       "<text text-anchor=\"middle\" x=\"863\" y=\"-37.8\" font-family=\"Times,serif\" font-size=\"14.00\">samples = 1</text>\n",
       "<text text-anchor=\"middle\" x=\"863\" y=\"-22.8\" font-family=\"Times,serif\" font-size=\"14.00\">value = [0, 2]</text>\n",
       "<text text-anchor=\"middle\" x=\"863\" y=\"-7.8\" font-family=\"Times,serif\" font-size=\"14.00\">class = AML</text>\n",
       "</g>\n",
       "<!-- 12&#45;&gt;14 -->\n",
       "<g id=\"edge14\" class=\"edge\">\n",
       "<title>12&#45;&gt;14</title>\n",
       "<path fill=\"none\" stroke=\"black\" d=\"M822.2,-103.73C827.4,-94.97 832.9,-85.7 838.12,-76.91\"/>\n",
       "<polygon fill=\"black\" stroke=\"black\" points=\"841.14,-78.69 843.23,-68.3 835.12,-75.11 841.14,-78.69\"/>\n",
       "</g>\n",
       "</g>\n",
       "</svg>\n"
      ],
      "text/plain": [
       "<graphviz.files.Source at 0x7f4839492e20>"
      ]
     },
     "execution_count": 34,
     "metadata": {},
     "output_type": "execute_result"
    }
   ],
   "source": [
    "dt = rf_fs.estimators_[0]\n",
    "feature_idx = fs.get_support()\n",
    "feature_name = X.columns[feature_idx]\n",
    "tree_graph = tree.export_graphviz(dt, out_file=None, \n",
    "                                  feature_names=feature_name, \n",
    "                                  class_names=['ALL', 'AML'],\n",
    "                                  filled = True)\n",
    "graph = Source(tree_graph)\n",
    "graph\n"
   ]
  },
  {
   "cell_type": "markdown",
   "id": "prompt-bosnia",
   "metadata": {},
   "source": [
    "#### Interpretación LIME"
   ]
  },
  {
   "cell_type": "markdown",
   "id": "processed-greene",
   "metadata": {},
   "source": [
    "Por último, recurriremos a la librería **LIME** para abordar la interpretación de un modelo de caja negra como este (aunque bastante simplificado, teniendo en cuenta cómo se ha reducido el nº de variables de entrada).\n",
    "\n",
    "LIME permita encontrar la explicación al comportamiento del modelo para la predicción de una instancia determinada, aproximando su comportamiento como lineal en ese punto. "
   ]
  },
  {
   "cell_type": "code",
   "execution_count": 35,
   "id": "essential-exemption",
   "metadata": {},
   "outputs": [],
   "source": [
    "X_train_red=X_train[feature_name]\n",
    "X_test_red=X_test[feature_name]\n",
    "\n",
    "explainer =lime.lime_tabular.LimeTabularExplainer(X_train_red.to_numpy(), \n",
    "                                                  feature_names=list(feature_name),\n",
    "                                                  verbose=True, \n",
    "                                                  mode='classification',  \n",
    "                                                  discretize_continuous=True, #a cuartiles\n",
    "                                                  class_names=['ALL', 'AML'])\n"
   ]
  },
  {
   "cell_type": "markdown",
   "id": "transsexual-titanium",
   "metadata": {},
   "source": [
    "Mediante un análisis detallado de las explicaciones que da LINE para cada una de las predicciones, se podrían determinar las fortelezas/debilidades del modelo y obtener información de gran interés en si misma. A continaución, mostramos algunos ejemplos."
   ]
  },
  {
   "cell_type": "markdown",
   "id": "legendary-average",
   "metadata": {},
   "source": [
    "- Los resultados que arroja LIME para un paciente con AML diagnosticado **correctamente** son: "
   ]
  },
  {
   "cell_type": "code",
   "execution_count": 45,
   "id": "municipal-mercy",
   "metadata": {},
   "outputs": [
    {
     "name": "stdout",
     "output_type": "stream",
     "text": [
      "Intercept 0.46125202178777636\n",
      "Prediction_local [0.57431738]\n",
      "Right: 0.71\n"
     ]
    },
    {
     "data": {
      "image/png": "[encoded data removed]",
      "text/plain": [
       "<Figure size 432x288 with 1 Axes>"
      ]
     },
     "execution_count": 45,
     "metadata": {},
     "output_type": "execute_result"
    },
    {
     "data": {
      "image/png": "[encoded data removed]",
      "text/plain": [
       "<Figure size 432x288 with 1 Axes>"
      ]
     },
     "metadata": {
      "needs_background": "light"
     },
     "output_type": "display_data"
    }
   ],
   "source": [
    "exp = explainer.explain_instance(X_test_red.iloc[6].to_numpy(), \n",
    "     rf_fs.predict_proba,num_samples=500)\n",
    "exp.as_pyplot_figure()"
   ]
  },
  {
   "cell_type": "markdown",
   "id": "egyptian-swing",
   "metadata": {},
   "source": [
    "- Los resultados que arroja LIME para un paciente con AML diagnosticado **erróneamente** son: "
   ]
  },
  {
   "cell_type": "code",
   "execution_count": 48,
   "id": "innocent-bullet",
   "metadata": {},
   "outputs": [
    {
     "name": "stdout",
     "output_type": "stream",
     "text": [
      "Intercept 0.6028764571818164\n",
      "Prediction_local [0.16979177]\n",
      "Right: 0.07\n"
     ]
    },
    {
     "data": {
      "image/png": "[encoded data removed]",
      "text/plain": [
       "<Figure size 432x288 with 1 Axes>"
      ]
     },
     "execution_count": 48,
     "metadata": {},
     "output_type": "execute_result"
    },
    {
     "data": {
      "image/png": "[encoded data removed]",
      "text/plain": [
       "<Figure size 432x288 with 1 Axes>"
      ]
     },
     "metadata": {
      "needs_background": "light"
     },
     "output_type": "display_data"
    }
   ],
   "source": [
    "exp = explainer.explain_instance(X_test_red.iloc[3].to_numpy(), \n",
    "     rf_fs.predict_proba,num_samples=500)\n",
    "exp.as_pyplot_figure()"
   ]
  },
  {
   "cell_type": "markdown",
   "id": "billion-bubble",
   "metadata": {},
   "source": [
    "- Los resultados que arroja LIME para un paciente con ALL diagnosticado **correctamente** son: "
   ]
  }
 ],
 "metadata": {
  "kernelspec": {
   "display_name": "Python 3",
   "language": "python",
   "name": "python3"
  },
  "language_info": {
   "codemirror_mode": {
    "name": "ipython",
    "version": 3
   },
   "file_extension": ".py",
   "mimetype": "text/x-python",
   "name": "python",
   "nbconvert_exporter": "python",
   "pygments_lexer": "ipython3",
   "version": "3.8.8"
  }
 },
 "nbformat": 4,
 "nbformat_minor": 5
}
